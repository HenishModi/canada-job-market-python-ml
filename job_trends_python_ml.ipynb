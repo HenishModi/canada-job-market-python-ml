{
  "cells": [
    {
      "cell_type": "markdown",
      "metadata": {},
      "source": [
        "# Canada Job Market (Python Only): EDA + ML Salary Prediction\n",
        "\n",
        "This notebook loads a 2,000-row synthetic dataset of Canadian job postings, performs EDA/visualizations, and trains a simple ML model to predict salaries using province, job title, and month.\n",
        "\n",
        "**Files expected:** `job_postings_canada_large.csv`\n"
      ]
    },
    {
      "cell_type": "code",
      "metadata": {},
      "source": [
        "import pandas as pd\n",
        "import numpy as np\n",
        "import matplotlib.pyplot as plt\n",
        "import seaborn as sns\n",
        "from sklearn.model_selection import train_test_split\n",
        "from sklearn.linear_model import LinearRegression\n",
        "from sklearn.preprocessing import OneHotEncoder\n",
        "from sklearn.compose import ColumnTransformer\n",
        "from sklearn.pipeline import Pipeline\n",
        "\n",
        "sns.set_style('whitegrid')\n",
        "df = pd.read_csv('job_postings_canada_large.csv')\n",
        "df.head()"
      ],
      "execution_count": null,
      "outputs": []
    },
    {
      "cell_type": "code",
      "metadata": {},
      "source": [
        "# Basic info\n",
        "print('Rows:', len(df))\n",
        "print('Columns:', df.columns.tolist())\n",
        "print('Provinces:\\n', df['province'].value_counts())\n",
        "print('\\nJob titles:\\n', df['job_title'].value_counts().head())\n",
        "print('\\nSalary (CAD) summary:')\n",
        "print(df['estimated_salary'].describe())"
      ],
      "execution_count": null,
      "outputs": []
    },
    {
      "cell_type": "code",
      "metadata": {},
      "source": [
        "# Chart 1: Average salary by province\n",
        "plt.figure(figsize=(8,5))\n",
        "avg_salary = df.groupby('province')['estimated_salary'].mean().reset_index()\n",
        "sns.barplot(data=avg_salary.sort_values('estimated_salary', ascending=False), x='estimated_salary', y='province')\n",
        "plt.title('Average Salary by Province (CAD)')\n",
        "plt.xlabel('Average Salary (CAD)')\n",
        "plt.tight_layout()\n",
        "plt.savefig('avg_salary_by_province.png')\n",
        "plt.show()"
      ],
      "execution_count": null,
      "outputs": []
    },
    {
      "cell_type": "code",
      "metadata": {},
      "source": [
        "# Chart 2: Top job titles by postings\n",
        "plt.figure(figsize=(9,5))\n",
        "top_titles = df['job_title'].value_counts().nlargest(10)\n",
        "sns.barplot(x=top_titles.values, y=top_titles.index)\n",
        "plt.title('Top 10 Job Titles by Postings')\n",
        "plt.xlabel('Postings')\n",
        "plt.tight_layout()\n",
        "plt.savefig('top_job_titles.png')\n",
        "plt.show()"
      ],
      "execution_count": null,
      "outputs": []
    },
    {
      "cell_type": "code",
      "metadata": {},
      "source": [
        "# Monthly trend (simple counts)\n",
        "plt.figure(figsize=(10,5))\n",
        "monthly = df.groupby('month')['job_id'].count().reset_index(name='job_count')\n",
        "monthly = monthly.sort_values('month')\n",
        "plt.plot(monthly['month'], monthly['job_count'], marker='o')\n",
        "plt.title('Monthly Job Posting Trends')\n",
        "plt.xlabel('Month')\n",
        "plt.ylabel('Job Count')\n",
        "plt.xticks(rotation=45)\n",
        "plt.tight_layout()\n",
        "plt.savefig('monthly_trends.png')\n",
        "plt.show()"
      ],
      "execution_count": null,
      "outputs": []
    },
    {
      "cell_type": "code",
      "metadata": {},
      "source": [
        "# ML: Salary prediction using province, job_title, month\n",
        "X = df[['province','job_title','month']]\n",
        "y = df['estimated_salary']\n",
        "\n",
        "categorical = ['province','job_title','month']\n",
        "preprocess = ColumnTransformer(\n",
        "    transformers=[('cat', OneHotEncoder(handle_unknown='ignore'), categorical)]\n",
        ")\n",
        "pipe = Pipeline(steps=[('prep', preprocess), ('model', LinearRegression())])\n",
        "\n",
        "X_train, X_test, y_train, y_test = train_test_split(X, y, test_size=0.2, random_state=42)\n",
        "pipe.fit(X_train, y_train)\n",
        "r2 = pipe.score(X_test, y_test)\n",
        "print(f'R^2 score on test set: {r2:.3f}')\n",
        "\n",
        "# Example prediction\n",
        "sample = pd.DataFrame({\n",
        "    'province': ['Ontario','BC'],\n",
        "    'job_title': ['Data Analyst','Data Scientist'],\n",
        "    'month': ['2023-08','2023-10']\n",
        "})\n",
        "pred = pipe.predict(sample)\n",
        "for i, val in enumerate(pred):\n",
        "    print(f'Predicted salary for {sample.iloc[i].to_dict()}: ${val:,.0f}')\n"
      ],
      "execution_count": null,
      "outputs": []
    }
  ],
  "metadata": {
    "kernelspec": {
      "display_name": "Python 3",
      "language": "python",
      "name": "python3"
    },
    "language_info": {
      "name": "python",
      "version": "3.10"
    }
  },
  "nbformat": 4,
  "nbformat_minor": 5
}